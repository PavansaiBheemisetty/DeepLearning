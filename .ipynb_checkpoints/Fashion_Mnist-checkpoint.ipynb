{
 "cells": [
  {
   "cell_type": "code",
   "execution_count": 1,
   "id": "6bd48531",
   "metadata": {},
   "outputs": [
    {
     "name": "stderr",
     "output_type": "stream",
     "text": [
      "/Users/pavansai/opt/anaconda3/lib/python3.9/site-packages/scipy/__init__.py:146: UserWarning: A NumPy version >=1.16.5 and <1.23.0 is required for this version of SciPy (detected version 1.24.3\n",
      "  warnings.warn(f\"A NumPy version >={np_minversion} and <{np_maxversion}\"\n"
     ]
    }
   ],
   "source": [
    "import tensorflow as tf\n",
    "from tensorflow import keras\n",
    "import matplotlib.pyplot as plt\n",
    "import pandas as pd\n",
    "import numpy as np"
   ]
  },
  {
   "cell_type": "code",
   "execution_count": 2,
   "id": "7fc7c86f",
   "metadata": {},
   "outputs": [],
   "source": [
    "data = keras.datasets.fashion_mnist"
   ]
  },
  {
   "cell_type": "code",
   "execution_count": 3,
   "id": "ef494bad",
   "metadata": {},
   "outputs": [],
   "source": [
    "(train_images, train_labels,),(test_images, test_labels) = data.load_data()"
   ]
  },
  {
   "cell_type": "code",
   "execution_count": 4,
   "id": "f8c95d23",
   "metadata": {},
   "outputs": [
    {
     "data": {
      "text/plain": [
       "array([[  0,   0,   0,   0,   0,   1,   1,   0,   0,   0,   0,  63,  28,\n",
       "          0,   0,   0,  33,  85,   0,   0,   0,   0,   0,   0,   0,   0,\n",
       "          0,   0],\n",
       "       [  0,   0,   0,   0,   0,   2,   0,   0,  28, 126, 241, 255, 255,\n",
       "        255, 255, 255, 255, 252, 248, 111,   0,   0,   0,   2,   0,   0,\n",
       "          0,   0],\n",
       "       [  0,   0,   0,   0,   2,   0,   0, 206, 244, 251, 241, 230, 238,\n",
       "        221, 205, 230, 240, 230, 239, 251, 233, 165,   0,   0,   2,   0,\n",
       "          0,   0],\n",
       "       [  0,   0,   0,   1,   0,   0, 199, 251, 228, 234, 233, 236, 235,\n",
       "        245, 247, 237, 234, 239, 230, 230, 235, 255, 176,   0,   0,   1,\n",
       "          0,   0],\n",
       "       [  0,   0,   0,   0,   0,  81, 254, 226, 228, 239, 237, 236, 234,\n",
       "        232, 233, 235, 235, 236, 239, 237, 233, 225, 246,  73,   0,   0,\n",
       "          0,   0],\n",
       "       [  0,   0,   3,   0,   0, 255, 235, 239, 223, 234, 238, 236, 237,\n",
       "        236, 235, 235, 235, 235, 236, 235, 234, 230, 231, 255,  24,   0,\n",
       "          4,   0],\n",
       "       [  0,   0,   0,   0, 177, 239, 223, 254, 223, 232, 234, 234, 236,\n",
       "        236, 235, 235, 235, 235, 235, 234, 231, 233, 222, 246,  88,   0,\n",
       "          1,   0],\n",
       "       [  0,   0,   0,   0, 234, 239, 229, 255, 220, 232, 233, 232, 234,\n",
       "        235, 235, 235, 235, 235, 234, 233, 232, 230, 228, 254, 140,   0,\n",
       "          0,   0],\n",
       "       [  0,   0,   0,   0, 225, 240, 226, 255, 221, 227, 232, 228, 231,\n",
       "        230, 228, 229, 231, 230, 228, 228, 232, 223, 229, 244, 231,   0,\n",
       "          0,   0],\n",
       "       [  0,   0,   0,  47, 245, 231, 234, 249, 229, 221, 229, 225, 229,\n",
       "        227, 226, 227, 228, 227, 228, 229, 228, 224, 246, 240, 227,   0,\n",
       "          0,   0],\n",
       "       [  0,   0,   0,  51, 248, 230, 245, 246, 230, 226, 230, 227, 230,\n",
       "        229, 228, 229, 230, 228, 228, 231, 225, 227, 242, 237, 255,   0,\n",
       "          0,   0],\n",
       "       [  0,   0,   0, 101, 253, 229, 247, 241, 221, 233, 228, 227, 229,\n",
       "        228, 227, 228, 230, 227, 230, 234, 225, 229, 251, 229, 243,  55,\n",
       "          0,   0],\n",
       "       [  0,   0,   0, 102, 255, 227, 242, 241, 221, 234, 223, 230, 228,\n",
       "        231, 229, 231, 231, 227, 229, 241, 219, 236, 254, 225, 250, 167,\n",
       "          0,   0],\n",
       "       [  0,   0,   0,  90, 255, 229, 236, 231, 222, 236, 223, 231, 229,\n",
       "        231, 229, 231, 231, 228, 224, 245, 218, 243, 239, 227, 244, 175,\n",
       "          0,   0],\n",
       "       [  0,   0,   0, 212, 250, 225, 236, 249, 229, 237, 223, 231, 229,\n",
       "        231, 229, 231, 231, 230, 221, 243, 225, 248, 230, 236, 234, 255,\n",
       "          1,   0],\n",
       "       [  0,   0,   0, 245, 243, 232, 243, 218, 228, 238, 222, 231, 229,\n",
       "        231, 229, 231, 231, 230, 222, 237, 237, 252, 229, 239, 240, 223,\n",
       "          0,   0],\n",
       "       [  0,   0,  27, 255, 235, 242, 237, 216, 230, 236, 224, 229, 227,\n",
       "        233, 233, 233, 230, 228, 224, 230, 245, 247, 221, 243, 239, 252,\n",
       "          0,   0],\n",
       "       [  0,   0,  88, 255, 232, 248, 236, 208, 234, 231, 223, 227, 226,\n",
       "        233, 232, 232, 230, 228, 224, 224, 235, 233, 234, 247, 235, 255,\n",
       "          0,   0],\n",
       "       [  0,   0,  83, 255, 225, 250, 237, 224, 236, 229, 225, 225, 227,\n",
       "        235, 229, 231, 230, 230, 227, 221, 227, 221, 239, 250, 231, 255,\n",
       "          0,   0],\n",
       "       [  0,   0,  20, 255, 224, 248, 234, 226, 232, 222, 225, 224, 231,\n",
       "        238, 226, 230, 228, 230, 230, 221, 229, 225, 244, 246, 230, 255,\n",
       "          0,   0],\n",
       "       [  0,   0,  95, 255, 218, 242, 255, 232, 226, 224, 229, 228, 228,\n",
       "        232, 228, 229, 231, 233, 232, 226, 221, 224, 247, 244, 228, 255,\n",
       "          0,   0],\n",
       "       [  0,   0, 167, 255, 213, 235, 255,  81, 245, 251, 238, 236, 230,\n",
       "        229, 230, 229, 230, 231, 238, 240, 255, 192, 255, 239, 228, 255,\n",
       "         23,   0],\n",
       "       [  0,   0, 173, 242, 224, 233, 255,   0, 136, 226, 239, 255, 229,\n",
       "        236, 236, 234, 233, 228, 251, 248, 200,  81, 255, 237, 225, 255,\n",
       "        101,   0],\n",
       "       [  0,   0, 172, 255, 226, 233, 255,   0,   0,   0,   0,   0,   8,\n",
       "         21,  22,  21,  20,  14,   0,   0,   0,   0, 255, 238, 229, 246,\n",
       "        178,   0],\n",
       "       [  0,   0,  16, 255, 236, 238, 252,   0,   0,   0,   0,   0,   0,\n",
       "          0,   0,   0,   0,   0,   0,   0,   0,   0, 222, 244, 222, 254,\n",
       "        119,   0],\n",
       "       [  0,   0,   0,  30, 228, 242, 163,   0,   0,   0,   0,   2,   4,\n",
       "          6,   5,   5,   4,   4,   2,   0,   1,   0, 151, 251, 235, 180,\n",
       "          0,   0],\n",
       "       [  0,   0,   0,   0, 234, 255, 191,   0,  11,   0,   0,   0,   0,\n",
       "          0,   0,   0,   0,   0,   0,   0,   4,   0, 103, 246, 247,  72,\n",
       "          0,   0],\n",
       "       [  0,   0,   0,   1,  95,  77,  52,   0,   4,   0,   0,   0,   0,\n",
       "          0,   0,   0,   0,   0,   0,   0,   3,   0,  82, 237, 231,  70,\n",
       "          0,   0]], dtype=uint8)"
      ]
     },
     "execution_count": 4,
     "metadata": {},
     "output_type": "execute_result"
    }
   ],
   "source": [
    "train_images[7]"
   ]
  },
  {
   "cell_type": "code",
   "execution_count": 5,
   "id": "c452d012",
   "metadata": {},
   "outputs": [
    {
     "data": {
      "text/plain": [
       "<matplotlib.image.AxesImage at 0x167c39d90>"
      ]
     },
     "execution_count": 5,
     "metadata": {},
     "output_type": "execute_result"
    },
    {
     "data": {
      "image/png": "[encoded data removed]",
      "text/plain": [
       "<Figure size 432x288 with 1 Axes>"
      ]
     },
     "metadata": {
      "needs_background": "light"
     },
     "output_type": "display_data"
    }
   ],
   "source": [
    "plt.imshow(train_images[7])"
   ]
  },
  {
   "cell_type": "code",
   "execution_count": 6,
   "id": "ed8d2771",
   "metadata": {},
   "outputs": [],
   "source": [
    "train_images = train_images/255\n",
    "test_images = test_images/255"
   ]
  },
  {
   "cell_type": "code",
   "execution_count": 7,
   "id": "f01b5991",
   "metadata": {},
   "outputs": [],
   "source": [
    "input_layer = tf.keras.layers.Flatten(input_shape=(28,28))\n",
    "hidden_layer1 = tf.keras.layers.Dense(128,activation='relu')\n",
    "output_layer = tf.keras.layers.Dense(10,activation='softmax')"
   ]
  },
  {
   "cell_type": "code",
   "execution_count": 8,
   "id": "0f0b4078",
   "metadata": {},
   "outputs": [],
   "source": [
    "model = tf.keras.Sequential([input_layer,hidden_layer1,output_layer])"
   ]
  },
  {
   "cell_type": "code",
   "execution_count": 9,
   "id": "64485cc0",
   "metadata": {},
   "outputs": [
    {
     "name": "stdout",
     "output_type": "stream",
     "text": [
      "Model: \"sequential\"\n",
      "_________________________________________________________________\n",
      " Layer (type)                Output Shape              Param #   \n",
      "=================================================================\n",
      " flatten (Flatten)           (None, 784)               0         \n",
      "                                                                 \n",
      " dense (Dense)               (None, 128)               100480    \n",
      "                                                                 \n",
      " dense_1 (Dense)             (None, 10)                1290      \n",
      "                                                                 \n",
      "=================================================================\n",
      "Total params: 101770 (397.54 KB)\n",
      "Trainable params: 101770 (397.54 KB)\n",
      "Non-trainable params: 0 (0.00 Byte)\n",
      "_________________________________________________________________\n"
     ]
    }
   ],
   "source": [
    "model.summary()"
   ]
  },
  {
   "cell_type": "code",
   "execution_count": 10,
   "id": "5af56096",
   "metadata": {},
   "outputs": [],
   "source": [
    "model.compile(optimizer='Adam',loss=tf.keras.losses.sparse_categorical_crossentropy,metrics='Accuracy')"
   ]
  },
  {
   "cell_type": "code",
   "execution_count": 11,
   "id": "76809ba1",
   "metadata": {},
   "outputs": [
    {
     "name": "stdout",
     "output_type": "stream",
     "text": [
      "Epoch 1/10\n",
      "1875/1875 [==============================] - 2s 722us/step - loss: 0.5006 - Accuracy: 0.8238\n",
      "Epoch 2/10\n",
      "1875/1875 [==============================] - 1s 710us/step - loss: 0.3741 - Accuracy: 0.8655\n",
      "Epoch 3/10\n",
      "1875/1875 [==============================] - 1s 710us/step - loss: 0.3363 - Accuracy: 0.8778\n",
      "Epoch 4/10\n",
      "1875/1875 [==============================] - 1s 709us/step - loss: 0.3142 - Accuracy: 0.8860\n",
      "Epoch 5/10\n",
      "1875/1875 [==============================] - 1s 705us/step - loss: 0.2936 - Accuracy: 0.8921\n",
      "Epoch 6/10\n",
      "1875/1875 [==============================] - 1s 703us/step - loss: 0.2822 - Accuracy: 0.8949\n",
      "Epoch 7/10\n",
      "1875/1875 [==============================] - 1s 712us/step - loss: 0.2692 - Accuracy: 0.9002\n",
      "Epoch 8/10\n",
      "1875/1875 [==============================] - 1s 713us/step - loss: 0.2604 - Accuracy: 0.9026\n",
      "Epoch 9/10\n",
      "1875/1875 [==============================] - 1s 712us/step - loss: 0.2495 - Accuracy: 0.9067\n",
      "Epoch 10/10\n",
      "1875/1875 [==============================] - 1s 708us/step - loss: 0.2384 - Accuracy: 0.9113\n"
     ]
    },
    {
     "data": {
      "text/plain": [
       "<keras.src.callbacks.History at 0x167eb1ac0>"
      ]
     },
     "execution_count": 11,
     "metadata": {},
     "output_type": "execute_result"
    }
   ],
   "source": [
    "model.fit(train_images,train_labels,epochs=10)"
   ]
  },
  {
   "cell_type": "code",
   "execution_count": 12,
   "id": "d455e72b",
   "metadata": {},
   "outputs": [
    {
     "name": "stdout",
     "output_type": "stream",
     "text": [
      "313/313 [==============================] - 0s 522us/step - loss: 0.3481 - Accuracy: 0.8773\n"
     ]
    }
   ],
   "source": [
    "test_loss, test_acc = model.evaluate(test_images,test_labels)"
   ]
  },
  {
   "cell_type": "code",
   "execution_count": 13,
   "id": "2aa02e3c",
   "metadata": {},
   "outputs": [
    {
     "data": {
      "text/plain": [
       "0.34808865189552307"
      ]
     },
     "execution_count": 13,
     "metadata": {},
     "output_type": "execute_result"
    }
   ],
   "source": [
    "test_loss"
   ]
  },
  {
   "cell_type": "code",
   "execution_count": 14,
   "id": "1ac1d2c6",
   "metadata": {},
   "outputs": [
    {
     "data": {
      "text/plain": [
       "0.8773000240325928"
      ]
     },
     "execution_count": 14,
     "metadata": {},
     "output_type": "execute_result"
    }
   ],
   "source": [
    "test_acc"
   ]
  },
  {
   "cell_type": "code",
   "execution_count": null,
   "id": "4776cd32",
   "metadata": {},
   "outputs": [],
   "source": []
  },
  {
   "cell_type": "code",
   "execution_count": null,
   "id": "cab4b244",
   "metadata": {},
   "outputs": [],
   "source": []
  }
 ],
 "metadata": {
  "kernelspec": {
   "display_name": "Python 3 (ipykernel)",
   "language": "python",
   "name": "python3"
  },
  "language_info": {
   "codemirror_mode": {
    "name": "ipython",
    "version": 3
   },
   "file_extension": ".py",
   "mimetype": "text/x-python",
   "name": "python",
   "nbconvert_exporter": "python",
   "pygments_lexer": "ipython3",
   "version": "3.9.12"
  }
 },
 "nbformat": 4,
 "nbformat_minor": 5
}
